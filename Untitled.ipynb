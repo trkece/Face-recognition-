{
 "cells": [
  {
   "cell_type": "code",
   "execution_count": 1,
   "metadata": {},
   "outputs": [],
   "source": [
    "import numpy as np\n",
    "import cv2"
   ]
  },
  {
   "cell_type": "code",
   "execution_count": 2,
   "metadata": {},
   "outputs": [],
   "source": [
    "img = cv2.imread('image_2.jpg')"
   ]
  },
  {
   "cell_type": "code",
   "execution_count": 3,
   "metadata": {},
   "outputs": [
    {
     "data": {
      "text/plain": [
       "array([[[ 87, 208, 187],\n",
       "        [ 88, 209, 188],\n",
       "        [ 89, 210, 189],\n",
       "        ...,\n",
       "        [ 95, 218, 192],\n",
       "        [ 94, 217, 191],\n",
       "        [ 95, 218, 192]],\n",
       "\n",
       "       [[ 86, 208, 184],\n",
       "        [ 86, 208, 184],\n",
       "        [ 88, 210, 186],\n",
       "        ...,\n",
       "        [ 95, 218, 192],\n",
       "        [ 94, 217, 191],\n",
       "        [ 96, 219, 193]],\n",
       "\n",
       "       [[ 84, 206, 182],\n",
       "        [ 85, 207, 183],\n",
       "        [ 86, 208, 184],\n",
       "        ...,\n",
       "        [ 93, 218, 192],\n",
       "        [ 93, 218, 192],\n",
       "        [ 94, 219, 193]],\n",
       "\n",
       "       ...,\n",
       "\n",
       "       [[ 61, 204, 177],\n",
       "        [ 61, 204, 177],\n",
       "        [ 62, 205, 178],\n",
       "        ...,\n",
       "        [118, 230, 206],\n",
       "        [119, 231, 207],\n",
       "        [120, 232, 208]],\n",
       "\n",
       "       [[ 65, 208, 181],\n",
       "        [ 66, 209, 182],\n",
       "        [ 68, 209, 182],\n",
       "        ...,\n",
       "        [118, 228, 204],\n",
       "        [117, 227, 203],\n",
       "        [117, 227, 203]],\n",
       "\n",
       "       [[ 70, 211, 184],\n",
       "        [ 70, 211, 184],\n",
       "        [ 72, 211, 184],\n",
       "        ...,\n",
       "        [114, 224, 200],\n",
       "        [113, 223, 199],\n",
       "        [113, 223, 199]]], dtype=uint8)"
      ]
     },
     "execution_count": 3,
     "metadata": {},
     "output_type": "execute_result"
    }
   ],
   "source": [
    "img"
   ]
  },
  {
   "cell_type": "code",
   "execution_count": 4,
   "metadata": {},
   "outputs": [
    {
     "data": {
      "text/plain": [
       "(343, 473, 3)"
      ]
     },
     "execution_count": 4,
     "metadata": {},
     "output_type": "execute_result"
    }
   ],
   "source": [
    "img.shape"
   ]
  },
  {
   "cell_type": "code",
   "execution_count": 5,
   "metadata": {},
   "outputs": [],
   "source": [
    "cv2.imshow('wid',img)\n",
    "cv2.waitKey(0)\n",
    "cv2.destroyAllWindows()"
   ]
  },
  {
   "cell_type": "code",
   "execution_count": 10,
   "metadata": {},
   "outputs": [],
   "source": [
    "b, g,r = cv2.split(img)"
   ]
  },
  {
   "cell_type": "code",
   "execution_count": 11,
   "metadata": {},
   "outputs": [
    {
     "data": {
      "text/plain": [
       "array([[187, 188, 189, ..., 192, 191, 192],\n",
       "       [184, 184, 186, ..., 192, 191, 193],\n",
       "       [182, 183, 184, ..., 192, 192, 193],\n",
       "       ...,\n",
       "       [177, 177, 178, ..., 206, 207, 208],\n",
       "       [181, 182, 182, ..., 204, 203, 203],\n",
       "       [184, 184, 184, ..., 200, 199, 199]], dtype=uint8)"
      ]
     },
     "execution_count": 11,
     "metadata": {},
     "output_type": "execute_result"
    }
   ],
   "source": [
    "r"
   ]
  },
  {
   "cell_type": "code",
   "execution_count": 8,
   "metadata": {},
   "outputs": [
    {
     "data": {
      "text/plain": [
       "(343, 473)"
      ]
     },
     "execution_count": 8,
     "metadata": {},
     "output_type": "execute_result"
    }
   ],
   "source": [
    "r.shape"
   ]
  },
  {
   "cell_type": "code",
   "execution_count": 12,
   "metadata": {},
   "outputs": [],
   "source": [
    "cv2.imshow('red',r)\n",
    "cv2.waitKey(0)\n",
    "cv2.destroyAllWindows()"
   ]
  },
  {
   "cell_type": "code",
   "execution_count": null,
   "metadata": {},
   "outputs": [],
   "source": []
  }
 ],
 "metadata": {
  "kernelspec": {
   "display_name": "Python 3",
   "language": "python",
   "name": "python3"
  },
  "language_info": {
   "codemirror_mode": {
    "name": "ipython",
    "version": 3
   },
   "file_extension": ".py",
   "mimetype": "text/x-python",
   "name": "python",
   "nbconvert_exporter": "python",
   "pygments_lexer": "ipython3",
   "version": "3.6.4"
  }
 },
 "nbformat": 4,
 "nbformat_minor": 2
}
